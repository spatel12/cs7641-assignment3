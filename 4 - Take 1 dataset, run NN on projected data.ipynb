{
 "cells": [
  {
   "cell_type": "code",
   "execution_count": 21,
   "metadata": {},
   "outputs": [],
   "source": [
    "import numpy as np\n",
    "import matplotlib.pyplot as plt\n",
    "import pandas as pd\n",
    "from sklearn.decomposition import FastICA, PCA\n",
    "from sklearn import random_projection\n",
    "from sklearn.decomposition import TruncatedSVD\n",
    "\n",
    "from sklearn.metrics import accuracy_score\n",
    "from sklearn.model_selection import (GridSearchCV, train_test_split, validation_curve)   \n",
    "from sklearn.ensemble import AdaBoostClassifier\n",
    "from sklearn.svm import SVC\n",
    "from sklearn.tree import DecisionTreeClassifier\n",
    "from sklearn.neighbors import KNeighborsClassifier\n",
    "from sklearn.neural_network import MLPClassifier\n",
    "from sklearn import preprocessing\n",
    "from yellowbrick.model_selection import LearningCurve, ValidationCurve\n",
    "\n",
    "from sklearn.model_selection import cross_val_score\n",
    "import time\n",
    "\n",
    "np.random.seed(42)"
   ]
  },
  {
   "cell_type": "markdown",
   "metadata": {},
   "source": [
    "# Utilities"
   ]
  },
  {
   "cell_type": "code",
   "execution_count": 22,
   "metadata": {},
   "outputs": [],
   "source": [
    "def load_data(ds):\n",
    "    df = pd.read_csv(\"data/\" + ds)\n",
    "    X, y = df.iloc[:, :-1], df.iloc[:, -1]\n",
    "    X, y = X.to_numpy(), y.to_numpy()\n",
    "    return X, y"
   ]
  },
  {
   "cell_type": "markdown",
   "metadata": {},
   "source": [
    "# Breast Cancer"
   ]
  },
  {
   "cell_type": "markdown",
   "metadata": {},
   "source": [
    "## PCA"
   ]
  },
  {
   "cell_type": "code",
   "execution_count": 23,
   "metadata": {},
   "outputs": [
    {
     "name": "stdout",
     "output_type": "stream",
     "text": [
      "Cross validation score: 0.916600790513834\n",
      "Train time: 1.3261313438415527\n",
      "Query time: 0.0005731582641601562\n",
      "Test Accuracy: 0.9385964912280702\n"
     ]
    }
   ],
   "source": [
    "X, y = load_data('wdbc-modified.data')\n",
    "pca = PCA(n_components= 2).fit(X)\n",
    "X_pca = pca.transform(X)\n",
    "\n",
    "clf = MLPClassifier(max_iter= 5000, hidden_layer_sizes=(5,2), activation='logistic', verbose=False, learning_rate_init=0.001)\n",
    "X_train, X_test, y_train, y_test = train_test_split(X_pca, y, test_size=0.2)\n",
    "\n",
    "cv_score = cross_val_score(clf, X_train, y_train, cv=20).mean()\n",
    "print(\"Cross validation score: \" + str(cv_score))\n",
    "\n",
    "start = time.time()\n",
    "clf.fit(X_train, y_train)\n",
    "train_time = time.time() - start\n",
    "print(\"Train time: \" + str(train_time))\n",
    "\n",
    "start = time.time()\n",
    "y_pred = clf.predict(X_test)\n",
    "query_time = time.time() - start\n",
    "print(\"Query time: \" + str(query_time))\n",
    "\n",
    "score = accuracy_score(y_test, y_pred)\n",
    "print(\"Test Accuracy: \" + str(score))"
   ]
  },
  {
   "cell_type": "markdown",
   "metadata": {},
   "source": [
    "## ICA"
   ]
  },
  {
   "cell_type": "code",
   "execution_count": 24,
   "metadata": {},
   "outputs": [
    {
     "name": "stdout",
     "output_type": "stream",
     "text": [
      "Cross validation score: 0.6482213438735178\n",
      "Train time: 0.33411288261413574\n",
      "Query time: 0.0006079673767089844\n",
      "Test Accuracy: 0.543859649122807\n"
     ]
    }
   ],
   "source": [
    "X, y = load_data('wdbc-modified.data')\n",
    "ica = FastICA(n_components= 5, max_iter=10000, tol=0.1).fit(X)\n",
    "X_ica = ica.transform(X)\n",
    "\n",
    "clf = MLPClassifier(max_iter= 5000, hidden_layer_sizes=(5,2), activation='logistic', verbose=False, learning_rate_init=0.001)\n",
    "X_train, X_test, y_train, y_test = train_test_split(X_ica, y, test_size=0.2)\n",
    "\n",
    "cv_score = cross_val_score(clf, X_train, y_train, cv=20).mean()\n",
    "print(\"Cross validation score: \" + str(cv_score))\n",
    "\n",
    "start = time.time()\n",
    "clf.fit(X_train, y_train)\n",
    "train_time = time.time() - start\n",
    "print(\"Train time: \" + str(train_time))\n",
    "\n",
    "start = time.time()\n",
    "y_pred = clf.predict(X_test)\n",
    "query_time = time.time() - start\n",
    "print(\"Query time: \" + str(query_time))\n",
    "\n",
    "score = accuracy_score(y_test, y_pred)\n",
    "print(\"Test Accuracy: \" + str(score))"
   ]
  },
  {
   "cell_type": "markdown",
   "metadata": {},
   "source": [
    "## Randomized Projections"
   ]
  },
  {
   "cell_type": "code",
   "execution_count": 27,
   "metadata": {},
   "outputs": [
    {
     "name": "stdout",
     "output_type": "stream",
     "text": [
      "Cross validation score: 0.7482213438735179\n",
      "Train time: 0.05169677734375\n",
      "Query time: 0.0003731250762939453\n",
      "Test Accuracy: 0.5877192982456141\n"
     ]
    }
   ],
   "source": [
    "X, y = load_data('wdbc-modified.data')\n",
    "rp = random_projection.SparseRandomProjection(n_components=11)\n",
    "X_rp=rp.fit_transform(X)\n",
    "\n",
    "clf = MLPClassifier(max_iter= 5000, hidden_layer_sizes=(5,2), activation='logistic', verbose=False, learning_rate_init=0.001)\n",
    "X_train, X_test, y_train, y_test = train_test_split(X_rp, y, test_size=0.2)\n",
    "\n",
    "cv_score = cross_val_score(clf, X_train, y_train, cv=20).mean()\n",
    "print(\"Cross validation score: \" + str(cv_score))\n",
    "\n",
    "start = time.time()\n",
    "clf.fit(X_train, y_train)\n",
    "train_time = time.time() - start\n",
    "print(\"Train time: \" + str(train_time))\n",
    "\n",
    "start = time.time()\n",
    "y_pred = clf.predict(X_test)\n",
    "query_time = time.time() - start\n",
    "print(\"Query time: \" + str(query_time))\n",
    "\n",
    "score = accuracy_score(y_test, y_pred)\n",
    "print(\"Test Accuracy: \" + str(score))"
   ]
  },
  {
   "cell_type": "markdown",
   "metadata": {},
   "source": [
    "## SVD"
   ]
  },
  {
   "cell_type": "code",
   "execution_count": 28,
   "metadata": {},
   "outputs": [
    {
     "name": "stdout",
     "output_type": "stream",
     "text": [
      "Cross validation score: 0.7863636363636364\n",
      "Train time: 0.06421875953674316\n",
      "Query time: 0.0005259513854980469\n",
      "Test Accuracy: 0.6666666666666666\n"
     ]
    }
   ],
   "source": [
    "X, y = load_data('wdbc-modified.data')\n",
    "tsvd = TruncatedSVD(n_components=2)\n",
    "X_tsvd = tsvd.fit_transform(X)\n",
    "\n",
    "clf = MLPClassifier(max_iter= 5000, hidden_layer_sizes=(5,2), activation='logistic', verbose=False, learning_rate_init=0.001)\n",
    "X_train, X_test, y_train, y_test = train_test_split(X_tsvd, y, test_size=0.2)\n",
    "\n",
    "cv_score = cross_val_score(clf, X_train, y_train, cv=20).mean()\n",
    "print(\"Cross validation score: \" + str(cv_score))\n",
    "\n",
    "start = time.time()\n",
    "clf.fit(X_train, y_train)\n",
    "train_time = time.time() - start\n",
    "print(\"Train time: \" + str(train_time))\n",
    "\n",
    "start = time.time()\n",
    "y_pred = clf.predict(X_test)\n",
    "query_time = time.time() - start\n",
    "print(\"Query time: \" + str(query_time))\n",
    "\n",
    "score = accuracy_score(y_test, y_pred)\n",
    "print(\"Test Accuracy: \" + str(score))"
   ]
  },
  {
   "cell_type": "code",
   "execution_count": null,
   "metadata": {},
   "outputs": [],
   "source": []
  }
 ],
 "metadata": {
  "kernelspec": {
   "display_name": "Python 3",
   "language": "python",
   "name": "python3"
  },
  "language_info": {
   "codemirror_mode": {
    "name": "ipython",
    "version": 3
   },
   "file_extension": ".py",
   "mimetype": "text/x-python",
   "name": "python",
   "nbconvert_exporter": "python",
   "pygments_lexer": "ipython3",
   "version": "3.8.1"
  }
 },
 "nbformat": 4,
 "nbformat_minor": 4
}
